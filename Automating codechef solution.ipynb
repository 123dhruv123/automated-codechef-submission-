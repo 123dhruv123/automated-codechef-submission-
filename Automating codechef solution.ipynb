{
 "cells": [
  {
   "cell_type": "code",
   "execution_count": 59,
   "metadata": {},
   "outputs": [],
   "source": [
    "from selenium import webdriver"
   ]
  },
  {
   "cell_type": "code",
   "execution_count": 60,
   "metadata": {},
   "outputs": [],
   "source": [
    "browser=webdriver.Chrome(r\"C:\\Users\\Dhruv\\chromedriver.exe\")"
   ]
  },
  {
   "cell_type": "code",
   "execution_count": 61,
   "metadata": {},
   "outputs": [],
   "source": [
    "browser.get(\"https:\\\\codechef.com\\\\\")"
   ]
  },
  {
   "cell_type": "code",
   "execution_count": 62,
   "metadata": {},
   "outputs": [],
   "source": [
    "#used to get to the username block\n",
    "user_element=browser.find_element_by_id(\"edit-name\")"
   ]
  },
  {
   "cell_type": "code",
   "execution_count": 63,
   "metadata": {},
   "outputs": [],
   "source": [
    "user_element.send_keys(\"dhruvchadha10\")"
   ]
  },
  {
   "cell_type": "code",
   "execution_count": 64,
   "metadata": {},
   "outputs": [],
   "source": [
    "#used to enter password\n",
    "user_password=browser.find_element_by_id(\"edit-pass\")"
   ]
  },
  {
   "cell_type": "code",
   "execution_count": 65,
   "metadata": {},
   "outputs": [],
   "source": [
    "from getpass import getpass"
   ]
  },
  {
   "cell_type": "code",
   "execution_count": 66,
   "metadata": {},
   "outputs": [
    {
     "name": "stdout",
     "output_type": "stream",
     "text": [
      "enter the password········\n"
     ]
    }
   ],
   "source": [
    "user_password.send_keys(getpass(\"enter the password\"))"
   ]
  },
  {
   "cell_type": "code",
   "execution_count": 67,
   "metadata": {},
   "outputs": [],
   "source": [
    "#press the login button\n",
    "browser.find_element_by_id(\"edit-submit\").click()"
   ]
  },
  {
   "cell_type": "code",
   "execution_count": 73,
   "metadata": {},
   "outputs": [],
   "source": [
    "#problem submission page\n",
    "#TEST is just a sample problem\n",
    "browser.get(\"https:\\\\codechef.com\\\\submit\\\\TEST\")"
   ]
  },
  {
   "cell_type": "code",
   "execution_count": 74,
   "metadata": {},
   "outputs": [],
   "source": [
    "#switch to non ide mode\n",
    "browser.find_element_by_id(\"edit-submit\").click()"
   ]
  },
  {
   "cell_type": "code",
   "execution_count": 3,
   "metadata": {},
   "outputs": [],
   "source": [
    "#used to enter the code\n",
    "with open(\"sample.cpp\",\"r\") as f:\n",
    "    code=f.read()"
   ]
  },
  {
   "cell_type": "code",
   "execution_count": 5,
   "metadata": {},
   "outputs": [
    {
     "name": "stdout",
     "output_type": "stream",
     "text": [
      "#include<bits/stdc++.h>\n",
      "using namespace std;\n",
      "int main()\n",
      "{\n",
      "\tint n;\n",
      "\tcin>>n;\n",
      "\tlong arr[n];\n",
      "\tfor(int i=0;i<n;i++)\n",
      "\t{\n",
      "\t\tcin>>arr[i];\n",
      "\t}\n",
      "\n",
      "\tint curr=0,cost=0;\n",
      "\twhile(curr<n-1)\n",
      "\t{\n",
      "\t\tint next=curr+1;\n",
      "\t\twhile(next<n-1)\n",
      "\t\t{\n",
      "\t\t\tif(abs(arr[curr])>abs(arr[next])||abs(arr[curr])==abs(arr[next])&&arr[curr]>=0)\n",
      "\t\t\t{\n",
      "\t\t\t\tbreak;\n",
      "\t\t\t}\n",
      "\t\t\telse\n",
      "\t\t\t\tnext++;\n",
      "\t\t}\n",
      "\t\tcost+=(next-curr)*arr[curr]+(next*next-curr*curr)*arr[curr]*arr[curr];\n",
      "\t\tcurr=next;\n",
      "\t}\n",
      "\tcout<<cost;\n",
      "\treturn 0;\n",
      "}\n",
      "\n"
     ]
    }
   ],
   "source": [
    "print(code)"
   ]
  },
  {
   "cell_type": "code",
   "execution_count": 76,
   "metadata": {},
   "outputs": [],
   "source": [
    "#toggle button\n",
    "browser.find_element_by_id(\"edit_area_toggle_checkbox_edit-program\").click()"
   ]
  },
  {
   "cell_type": "code",
   "execution_count": 77,
   "metadata": {},
   "outputs": [],
   "source": [
    "#put the code in block\n",
    "code_element=browser.find_element_by_id(\"edit-program\")"
   ]
  },
  {
   "cell_type": "code",
   "execution_count": 78,
   "metadata": {},
   "outputs": [],
   "source": [
    "code_element.send_keys(code)"
   ]
  },
  {
   "cell_type": "code",
   "execution_count": 79,
   "metadata": {},
   "outputs": [],
   "source": [
    "#select the language\n",
    "browser.find_element_by_xpath('//*[@id=\"edit-language\"]/option[10]').click()"
   ]
  },
  {
   "cell_type": "code",
   "execution_count": 80,
   "metadata": {},
   "outputs": [],
   "source": [
    "#submit the code\n",
    "browser.find_element_by_id(\"edit-submit-1\").click()"
   ]
  },
  {
   "cell_type": "code",
   "execution_count": null,
   "metadata": {},
   "outputs": [],
   "source": []
  }
 ],
 "metadata": {
  "kernelspec": {
   "display_name": "Python 3",
   "language": "python",
   "name": "python3"
  },
  "language_info": {
   "codemirror_mode": {
    "name": "ipython",
    "version": 3
   },
   "file_extension": ".py",
   "mimetype": "text/x-python",
   "name": "python",
   "nbconvert_exporter": "python",
   "pygments_lexer": "ipython3",
   "version": "3.7.1"
  }
 },
 "nbformat": 4,
 "nbformat_minor": 4
}
